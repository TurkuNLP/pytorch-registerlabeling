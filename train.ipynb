{
 "cells": [
  {
   "cell_type": "code",
   "execution_count": null,
   "metadata": {},
   "outputs": [],
   "source": [
    "import os\n",
    "\n",
    "os.environ[\"TRANSFORMERS_CACHE\"] = \".hf/transformers_cache\"\n",
    "os.environ[\"HF_HOME\"] = \".hf/hf_home\"\n",
    "os.environ[\"XDG_CACHE_HOME\"] = \".hf/xdg_cache_home\""
   ]
  }
 ],
 "metadata": {
  "language_info": {
   "name": "python"
  }
 },
 "nbformat": 4,
 "nbformat_minor": 2
}
