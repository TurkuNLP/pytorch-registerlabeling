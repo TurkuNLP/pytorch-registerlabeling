{
  "cells": [
    {
      "cell_type": "markdown",
      "metadata": {
        "id": "view-in-github",
        "colab_type": "text"
      },
      "source": [
        "<a href=\"https://colab.research.google.com/github/TurkuNLP/pytorch-registerlabeling/blob/main/pytorch_hiddenstates.ipynb\" target=\"_parent\"><img src=\"https://colab.research.google.com/assets/colab-badge.svg\" alt=\"Open In Colab\"/></a>"
      ]
    },
    {
      "cell_type": "code",
      "execution_count": null,
      "metadata": {
        "id": "RaPcuLglhhkl"
      },
      "outputs": [],
      "source": [
        "! pip3 install transformers"
      ]
    },
    {
      "cell_type": "code",
      "execution_count": null,
      "metadata": {
        "id": "d3RIo4AKgVRv"
      },
      "outputs": [],
      "source": [
        "! wget http://dl.turkunlp.org/register-labeling-model/finbert-base-fin-0.00002-MTv2.pt"
      ]
    },
    {
      "cell_type": "code",
      "execution_count": null,
      "metadata": {
        "id": "MrnWuEcIgf1D"
      },
      "outputs": [],
      "source": [
        "! git clone https://github.com/TurkuNLP/FinCORE_full.git\n",
        "%cd FinCORE_full\n",
        "! ls"
      ]
    },
    {
      "cell_type": "code",
      "execution_count": null,
      "metadata": {
        "id": "EO2HPeQxgqal"
      },
      "outputs": [],
      "source": [
        "import transformers\n",
        "import sys\n",
        "import numpy as np\n",
        "import torch\n",
        "tokenizer = transformers.AutoTokenizer.from_pretrained(\"TurkuNLP/bert-base-finnish-cased-v1\")\n",
        "model = torch.load(\"/content/finbert-base-fin-0.00002-MTv2.pt\", map_location=torch.device('cpu'))"
      ]
    },
    {
      "cell_type": "code",
      "source": [
        "! head -100 train.tsv"
      ],
      "metadata": {
        "id": "DoI17nJD4Fn-"
      },
      "execution_count": null,
      "outputs": []
    },
    {
      "cell_type": "code",
      "execution_count": 77,
      "metadata": {
        "colab": {
          "base_uri": "https://localhost:8080/"
        },
        "id": "tGJQkeaphIRQ",
        "outputId": "b359f508-563c-41c5-ecaa-d89f11db3e24"
      },
      "outputs": [
        {
          "output_type": "stream",
          "name": "stdout",
          "text": [
            "torch.Size([1, 512, 768])\n",
            "last layer shape torch.Size([512, 768])\n",
            "CLS shape\n",
            "Total number of embeddings 1\n"
          ]
        }
      ],
      "source": [
        "f = open(\"train.tsv\", \"r\")\n",
        "labels_total = []\n",
        "embeddings = []\n",
        "counter = 0\n",
        "to_take = [\"NE\", \"SR\", \"RV\", \"PB\",\"LY\"]\n",
        "for line in f:\n",
        "  line=line.split(\"\\t\")\n",
        "  labels=line[0]\n",
        "  text=line[1]\n",
        "  ls=labels.split(\" \")\n",
        "  if len(list(set(to_take) & set(ls))) == 0:\n",
        "    continue\n",
        "  else:\n",
        "    counter+=1\n",
        "    if counter > 100:\n",
        "      break\n",
        "    else:\n",
        "            labels_total.append(labels)\n",
        "            inputs = tokenizer(text, return_tensors='pt', truncation=True, max_length=512)\n",
        "          #  print(inputs)\n",
        "            #input_enc = tokenizer(text, truncation=True, max_length=512)\n",
        "            #print(input_enc)\n",
        "            outputs = model(**inputs, output_hidden_states=True)\n",
        "            last_hidden_states = outputs.hidden_states[-1]\n",
        "            print(last_hidden_states.shape)\n",
        "         #   print(last_hidden_states)\n",
        "            last_layer = last_hidden_states[0]\n",
        "            print(\"last layer shape\", last_layer.shape)\n",
        "            #print(last_layer)\n",
        "            embeddings.append(last_layer[0,:].detach().numpy()) # take the index 0 so CLS\n",
        "            print(\"CLS shape\")\n",
        "            #print(last_layer[0,:].shape)\n",
        "print(\"Total number of embeddings\", len(embeddings))"
      ]
    },
    {
      "cell_type": "code",
      "source": [
        "def write(list,name):\n",
        "  fout = open(name, \"w\")\n",
        "  for line in list:\n",
        "    new = [str(a) for a in line]\n",
        "    fout.write(\" \".join(new))\n",
        "    fout.write(\"\\n\")\n",
        "  fout.close()\n",
        "\n",
        "def write_l(list,name):\n",
        "  fout = open(name, \"w\")\n",
        "  for line in list:\n",
        "    fout.write(line)\n",
        "    fout.write(\"\\n\")\n",
        "  fout.close()"
      ],
      "metadata": {
        "id": "GRy17ZYT5w3P"
      },
      "execution_count": 18,
      "outputs": []
    },
    {
      "cell_type": "code",
      "source": [
        "from google.colab import drive\n",
        "drive.mount('/content/drive')"
      ],
      "metadata": {
        "colab": {
          "base_uri": "https://localhost:8080/"
        },
        "id": "3o0OndA75QnL",
        "outputId": "778c201a-e9f9-456a-a729-6c829ae14385"
      },
      "execution_count": 9,
      "outputs": [
        {
          "output_type": "stream",
          "name": "stdout",
          "text": [
            "Mounted at /content/drive\n"
          ]
        }
      ]
    },
    {
      "cell_type": "code",
      "source": [
        "write(embeddings, \"/content/drive/MyDrive/WorkStuff/embeddings.txt\")\n",
        "write_l(labels_total, \"/content/drive/MyDrive/WorkStuff/labels.txt\")"
      ],
      "metadata": {
        "id": "OVBdAMSV_yA9"
      },
      "execution_count": 20,
      "outputs": []
    },
    {
      "cell_type": "code",
      "source": [
        "def read(inp, name):\n",
        "  inp = open(inp, \"r\")\n",
        "  name = []\n",
        "  for line in inp:\n",
        "      line2=line.strip().split(\" \")\n",
        "      line3 = [float(a) for a in line2]\n",
        "      name.append(line3)\n",
        "  return name\n",
        "\n",
        "def read_l(inp, name):\n",
        "    inp = open(inp, \"r\")\n",
        "    name = []\n",
        "    for line in inp:\n",
        "      line=line.strip()\n",
        "      name.append(line)\n",
        "    return name"
      ],
      "metadata": {
        "id": "QUrgYRQW8cuI"
      },
      "execution_count": 21,
      "outputs": []
    },
    {
      "cell_type": "code",
      "source": [
        "embeddings_new = read(\"/content/drive/MyDrive/WorkStuff/embeddings.txt\", \"embeddings_new\")\n",
        "labels_new = read_l(\"//content/drive/MyDrive/WorkStuff/labels.txt\", \"labels_new\")\n",
        "print(len(embeddings_new))\n",
        "print(len(embeddings_new[0]))\n",
        "print(len(labels_new))\n",
        "print(len(labels_new[0]))\n",
        "print(labels_new[0])"
      ],
      "metadata": {
        "id": "kZ5Tkl5U9fKS",
        "colab": {
          "base_uri": "https://localhost:8080/"
        },
        "outputId": "1d8a4f59-f7a8-467c-ae05-bfe244e1c493"
      },
      "execution_count": 22,
      "outputs": [
        {
          "output_type": "stream",
          "name": "stdout",
          "text": [
            "100\n",
            "768\n",
            "100\n",
            "5\n",
            "PB NA\n"
          ]
        }
      ]
    },
    {
      "cell_type": "code",
      "source": [
        "labels_new2 = []\n",
        "for f in labels_new:\n",
        "  f=f.replace(\" \", \"-\")\n",
        "  labels_new2.append(f)"
      ],
      "metadata": {
        "id": "mp4Cp6BFQpGS"
      },
      "execution_count": 23,
      "outputs": []
    },
    {
      "cell_type": "code",
      "execution_count": null,
      "metadata": {
        "id": "xJ5JR9zLiUvM"
      },
      "outputs": [],
      "source": [
        "! pip install umap-learn\n",
        "! pip install datashader bokeh holoviews scikit-image colorcet "
      ]
    },
    {
      "cell_type": "code",
      "execution_count": 25,
      "metadata": {
        "colab": {
          "base_uri": "https://localhost:8080/"
        },
        "id": "uI1jsCMPI2_1",
        "outputId": "77ab41af-fcc8-4073-ab68-f26a8a0717eb"
      },
      "outputs": [
        {
          "output_type": "execute_result",
          "data": {
            "text/plain": [
              "(100, 2)"
            ]
          },
          "metadata": {},
          "execution_count": 25
        }
      ],
      "source": [
        "import umap\n",
        "import matplotlib.pyplot as plt\n",
        "import numpy as np\n",
        "import sklearn.datasets\n",
        "import pandas as pd\n",
        "\n",
        "reducer = umap.UMAP()\n",
        "reduced = reducer.fit_transform(embeddings_new) #nearest neig, lr\n",
        "reduced.shape\n",
        "#print(reduced)"
      ]
    },
    {
      "cell_type": "code",
      "source": [
        "df = pd.DataFrame(embeddings_new)\n",
        "coln = []\n",
        "for x in range(0,768): \n",
        "  coln.append(\"Col_\"+str(x))\n",
        "df.columns = coln\n",
        "df['Labels'] = labels_new2\n",
        "df.head()"
      ],
      "metadata": {
        "colab": {
          "base_uri": "https://localhost:8080/",
          "height": 317
        },
        "id": "VyLOfrtfz4LI",
        "outputId": "cfe037d9-2d4a-4c32-a6d5-9e1df9405b3b"
      },
      "execution_count": 39,
      "outputs": [
        {
          "output_type": "execute_result",
          "data": {
            "text/plain": [
              "      Col_0     Col_1     Col_2     Col_3     Col_4     Col_5     Col_6  \\\n",
              "0  1.069364  1.859664  0.867835  1.113974  1.021448  0.149794  0.797208   \n",
              "1  0.761765  2.213071  1.030492  1.279357  0.756945  0.368263  0.994574   \n",
              "2 -0.347135  0.076683 -1.653841  0.295007 -0.904214  1.186285 -0.878108   \n",
              "3 -0.164399 -0.046096  1.042209  0.141885  1.647001 -0.876021  1.242773   \n",
              "4 -0.030619 -0.981269  0.548622 -0.201160  1.001512 -0.144031 -1.952007   \n",
              "\n",
              "      Col_7     Col_8     Col_9  ...   Col_759   Col_760   Col_761   Col_762  \\\n",
              "0 -0.315022 -0.487905  1.094844  ...  0.797918  1.397920 -0.878199 -1.505954   \n",
              "1 -0.434663 -1.039588  1.325265  ...  0.661670  1.079528 -1.037057 -1.224327   \n",
              "2 -0.524688 -1.465046  0.347324  ...  1.803824  1.338474 -1.324766 -1.059445   \n",
              "3 -0.059486 -1.044641  1.111741  ...  1.508280 -0.324121 -0.648639  0.431740   \n",
              "4 -0.469737 -0.280533 -0.188378  ... -0.127668  0.447978 -0.591188 -0.146531   \n",
              "\n",
              "    Col_763   Col_764   Col_765   Col_766   Col_767       Labels  \n",
              "0  0.479954  0.151767 -0.309200 -0.892775  0.789982        PB-NA  \n",
              "1  0.714251  0.225330 -0.250188 -0.857220  0.675162        PB-NA  \n",
              "2 -1.033075  1.310125 -0.509948  0.055335  0.529165        NE-NA  \n",
              "3  0.623803 -0.291645 -0.600127 -1.402626 -1.020081        SR-NA  \n",
              "4  0.520664  0.822608  0.246796  2.227728  2.295121  DT-IN-RV-OP  \n",
              "\n",
              "[5 rows x 769 columns]"
            ],
            "text/html": [
              "\n",
              "  <div id=\"df-ef14583b-b6f6-4591-8b3f-e8e5d391f0b0\">\n",
              "    <div class=\"colab-df-container\">\n",
              "      <div>\n",
              "<style scoped>\n",
              "    .dataframe tbody tr th:only-of-type {\n",
              "        vertical-align: middle;\n",
              "    }\n",
              "\n",
              "    .dataframe tbody tr th {\n",
              "        vertical-align: top;\n",
              "    }\n",
              "\n",
              "    .dataframe thead th {\n",
              "        text-align: right;\n",
              "    }\n",
              "</style>\n",
              "<table border=\"1\" class=\"dataframe\">\n",
              "  <thead>\n",
              "    <tr style=\"text-align: right;\">\n",
              "      <th></th>\n",
              "      <th>Col_0</th>\n",
              "      <th>Col_1</th>\n",
              "      <th>Col_2</th>\n",
              "      <th>Col_3</th>\n",
              "      <th>Col_4</th>\n",
              "      <th>Col_5</th>\n",
              "      <th>Col_6</th>\n",
              "      <th>Col_7</th>\n",
              "      <th>Col_8</th>\n",
              "      <th>Col_9</th>\n",
              "      <th>...</th>\n",
              "      <th>Col_759</th>\n",
              "      <th>Col_760</th>\n",
              "      <th>Col_761</th>\n",
              "      <th>Col_762</th>\n",
              "      <th>Col_763</th>\n",
              "      <th>Col_764</th>\n",
              "      <th>Col_765</th>\n",
              "      <th>Col_766</th>\n",
              "      <th>Col_767</th>\n",
              "      <th>Labels</th>\n",
              "    </tr>\n",
              "  </thead>\n",
              "  <tbody>\n",
              "    <tr>\n",
              "      <th>0</th>\n",
              "      <td>1.069364</td>\n",
              "      <td>1.859664</td>\n",
              "      <td>0.867835</td>\n",
              "      <td>1.113974</td>\n",
              "      <td>1.021448</td>\n",
              "      <td>0.149794</td>\n",
              "      <td>0.797208</td>\n",
              "      <td>-0.315022</td>\n",
              "      <td>-0.487905</td>\n",
              "      <td>1.094844</td>\n",
              "      <td>...</td>\n",
              "      <td>0.797918</td>\n",
              "      <td>1.397920</td>\n",
              "      <td>-0.878199</td>\n",
              "      <td>-1.505954</td>\n",
              "      <td>0.479954</td>\n",
              "      <td>0.151767</td>\n",
              "      <td>-0.309200</td>\n",
              "      <td>-0.892775</td>\n",
              "      <td>0.789982</td>\n",
              "      <td>PB-NA</td>\n",
              "    </tr>\n",
              "    <tr>\n",
              "      <th>1</th>\n",
              "      <td>0.761765</td>\n",
              "      <td>2.213071</td>\n",
              "      <td>1.030492</td>\n",
              "      <td>1.279357</td>\n",
              "      <td>0.756945</td>\n",
              "      <td>0.368263</td>\n",
              "      <td>0.994574</td>\n",
              "      <td>-0.434663</td>\n",
              "      <td>-1.039588</td>\n",
              "      <td>1.325265</td>\n",
              "      <td>...</td>\n",
              "      <td>0.661670</td>\n",
              "      <td>1.079528</td>\n",
              "      <td>-1.037057</td>\n",
              "      <td>-1.224327</td>\n",
              "      <td>0.714251</td>\n",
              "      <td>0.225330</td>\n",
              "      <td>-0.250188</td>\n",
              "      <td>-0.857220</td>\n",
              "      <td>0.675162</td>\n",
              "      <td>PB-NA</td>\n",
              "    </tr>\n",
              "    <tr>\n",
              "      <th>2</th>\n",
              "      <td>-0.347135</td>\n",
              "      <td>0.076683</td>\n",
              "      <td>-1.653841</td>\n",
              "      <td>0.295007</td>\n",
              "      <td>-0.904214</td>\n",
              "      <td>1.186285</td>\n",
              "      <td>-0.878108</td>\n",
              "      <td>-0.524688</td>\n",
              "      <td>-1.465046</td>\n",
              "      <td>0.347324</td>\n",
              "      <td>...</td>\n",
              "      <td>1.803824</td>\n",
              "      <td>1.338474</td>\n",
              "      <td>-1.324766</td>\n",
              "      <td>-1.059445</td>\n",
              "      <td>-1.033075</td>\n",
              "      <td>1.310125</td>\n",
              "      <td>-0.509948</td>\n",
              "      <td>0.055335</td>\n",
              "      <td>0.529165</td>\n",
              "      <td>NE-NA</td>\n",
              "    </tr>\n",
              "    <tr>\n",
              "      <th>3</th>\n",
              "      <td>-0.164399</td>\n",
              "      <td>-0.046096</td>\n",
              "      <td>1.042209</td>\n",
              "      <td>0.141885</td>\n",
              "      <td>1.647001</td>\n",
              "      <td>-0.876021</td>\n",
              "      <td>1.242773</td>\n",
              "      <td>-0.059486</td>\n",
              "      <td>-1.044641</td>\n",
              "      <td>1.111741</td>\n",
              "      <td>...</td>\n",
              "      <td>1.508280</td>\n",
              "      <td>-0.324121</td>\n",
              "      <td>-0.648639</td>\n",
              "      <td>0.431740</td>\n",
              "      <td>0.623803</td>\n",
              "      <td>-0.291645</td>\n",
              "      <td>-0.600127</td>\n",
              "      <td>-1.402626</td>\n",
              "      <td>-1.020081</td>\n",
              "      <td>SR-NA</td>\n",
              "    </tr>\n",
              "    <tr>\n",
              "      <th>4</th>\n",
              "      <td>-0.030619</td>\n",
              "      <td>-0.981269</td>\n",
              "      <td>0.548622</td>\n",
              "      <td>-0.201160</td>\n",
              "      <td>1.001512</td>\n",
              "      <td>-0.144031</td>\n",
              "      <td>-1.952007</td>\n",
              "      <td>-0.469737</td>\n",
              "      <td>-0.280533</td>\n",
              "      <td>-0.188378</td>\n",
              "      <td>...</td>\n",
              "      <td>-0.127668</td>\n",
              "      <td>0.447978</td>\n",
              "      <td>-0.591188</td>\n",
              "      <td>-0.146531</td>\n",
              "      <td>0.520664</td>\n",
              "      <td>0.822608</td>\n",
              "      <td>0.246796</td>\n",
              "      <td>2.227728</td>\n",
              "      <td>2.295121</td>\n",
              "      <td>DT-IN-RV-OP</td>\n",
              "    </tr>\n",
              "  </tbody>\n",
              "</table>\n",
              "<p>5 rows × 769 columns</p>\n",
              "</div>\n",
              "      <button class=\"colab-df-convert\" onclick=\"convertToInteractive('df-ef14583b-b6f6-4591-8b3f-e8e5d391f0b0')\"\n",
              "              title=\"Convert this dataframe to an interactive table.\"\n",
              "              style=\"display:none;\">\n",
              "        \n",
              "  <svg xmlns=\"http://www.w3.org/2000/svg\" height=\"24px\"viewBox=\"0 0 24 24\"\n",
              "       width=\"24px\">\n",
              "    <path d=\"M0 0h24v24H0V0z\" fill=\"none\"/>\n",
              "    <path d=\"M18.56 5.44l.94 2.06.94-2.06 2.06-.94-2.06-.94-.94-2.06-.94 2.06-2.06.94zm-11 1L8.5 8.5l.94-2.06 2.06-.94-2.06-.94L8.5 2.5l-.94 2.06-2.06.94zm10 10l.94 2.06.94-2.06 2.06-.94-2.06-.94-.94-2.06-.94 2.06-2.06.94z\"/><path d=\"M17.41 7.96l-1.37-1.37c-.4-.4-.92-.59-1.43-.59-.52 0-1.04.2-1.43.59L10.3 9.45l-7.72 7.72c-.78.78-.78 2.05 0 2.83L4 21.41c.39.39.9.59 1.41.59.51 0 1.02-.2 1.41-.59l7.78-7.78 2.81-2.81c.8-.78.8-2.07 0-2.86zM5.41 20L4 18.59l7.72-7.72 1.47 1.35L5.41 20z\"/>\n",
              "  </svg>\n",
              "      </button>\n",
              "      \n",
              "  <style>\n",
              "    .colab-df-container {\n",
              "      display:flex;\n",
              "      flex-wrap:wrap;\n",
              "      gap: 12px;\n",
              "    }\n",
              "\n",
              "    .colab-df-convert {\n",
              "      background-color: #E8F0FE;\n",
              "      border: none;\n",
              "      border-radius: 50%;\n",
              "      cursor: pointer;\n",
              "      display: none;\n",
              "      fill: #1967D2;\n",
              "      height: 32px;\n",
              "      padding: 0 0 0 0;\n",
              "      width: 32px;\n",
              "    }\n",
              "\n",
              "    .colab-df-convert:hover {\n",
              "      background-color: #E2EBFA;\n",
              "      box-shadow: 0px 1px 2px rgba(60, 64, 67, 0.3), 0px 1px 3px 1px rgba(60, 64, 67, 0.15);\n",
              "      fill: #174EA6;\n",
              "    }\n",
              "\n",
              "    [theme=dark] .colab-df-convert {\n",
              "      background-color: #3B4455;\n",
              "      fill: #D2E3FC;\n",
              "    }\n",
              "\n",
              "    [theme=dark] .colab-df-convert:hover {\n",
              "      background-color: #434B5C;\n",
              "      box-shadow: 0px 1px 3px 1px rgba(0, 0, 0, 0.15);\n",
              "      filter: drop-shadow(0px 1px 2px rgba(0, 0, 0, 0.3));\n",
              "      fill: #FFFFFF;\n",
              "    }\n",
              "  </style>\n",
              "\n",
              "      <script>\n",
              "        const buttonEl =\n",
              "          document.querySelector('#df-ef14583b-b6f6-4591-8b3f-e8e5d391f0b0 button.colab-df-convert');\n",
              "        buttonEl.style.display =\n",
              "          google.colab.kernel.accessAllowed ? 'block' : 'none';\n",
              "\n",
              "        async function convertToInteractive(key) {\n",
              "          const element = document.querySelector('#df-ef14583b-b6f6-4591-8b3f-e8e5d391f0b0');\n",
              "          const dataTable =\n",
              "            await google.colab.kernel.invokeFunction('convertToInteractive',\n",
              "                                                     [key], {});\n",
              "          if (!dataTable) return;\n",
              "\n",
              "          const docLinkHtml = 'Like what you see? Visit the ' +\n",
              "            '<a target=\"_blank\" href=https://colab.research.google.com/notebooks/data_table.ipynb>data table notebook</a>'\n",
              "            + ' to learn more about interactive tables.';\n",
              "          element.innerHTML = '';\n",
              "          dataTable['output_type'] = 'display_data';\n",
              "          await google.colab.output.renderOutput(dataTable, element);\n",
              "          const docLink = document.createElement('div');\n",
              "          docLink.innerHTML = docLinkHtml;\n",
              "          element.appendChild(docLink);\n",
              "        }\n",
              "      </script>\n",
              "    </div>\n",
              "  </div>\n",
              "  "
            ]
          },
          "metadata": {},
          "execution_count": 39
        }
      ]
    },
    {
      "cell_type": "code",
      "source": [
        "pip install seaborn"
      ],
      "metadata": {
        "colab": {
          "base_uri": "https://localhost:8080/"
        },
        "id": "AKRc4TQhYqsV",
        "outputId": "15cc2e77-27d0-4f81-ea02-e510b8de6d95"
      },
      "execution_count": 53,
      "outputs": [
        {
          "output_type": "stream",
          "name": "stdout",
          "text": [
            "Looking in indexes: https://pypi.org/simple, https://us-python.pkg.dev/colab-wheels/public/simple/\n",
            "Requirement already satisfied: seaborn in /usr/local/lib/python3.8/dist-packages (0.11.2)\n",
            "Requirement already satisfied: matplotlib>=2.2 in /usr/local/lib/python3.8/dist-packages (from seaborn) (3.5.3)\n",
            "Requirement already satisfied: numpy>=1.15 in /usr/local/lib/python3.8/dist-packages (from seaborn) (1.22.4)\n",
            "Requirement already satisfied: pandas>=0.23 in /usr/local/lib/python3.8/dist-packages (from seaborn) (1.3.5)\n",
            "Requirement already satisfied: scipy>=1.0 in /usr/local/lib/python3.8/dist-packages (from seaborn) (1.7.3)\n",
            "Requirement already satisfied: kiwisolver>=1.0.1 in /usr/local/lib/python3.8/dist-packages (from matplotlib>=2.2->seaborn) (1.4.4)\n",
            "Requirement already satisfied: python-dateutil>=2.7 in /usr/local/lib/python3.8/dist-packages (from matplotlib>=2.2->seaborn) (2.8.2)\n",
            "Requirement already satisfied: pillow>=6.2.0 in /usr/local/lib/python3.8/dist-packages (from matplotlib>=2.2->seaborn) (8.4.0)\n",
            "Requirement already satisfied: cycler>=0.10 in /usr/local/lib/python3.8/dist-packages (from matplotlib>=2.2->seaborn) (0.11.0)\n",
            "Requirement already satisfied: packaging>=20.0 in /usr/local/lib/python3.8/dist-packages (from matplotlib>=2.2->seaborn) (23.0)\n",
            "Requirement already satisfied: fonttools>=4.22.0 in /usr/local/lib/python3.8/dist-packages (from matplotlib>=2.2->seaborn) (4.38.0)\n",
            "Requirement already satisfied: pyparsing>=2.2.1 in /usr/local/lib/python3.8/dist-packages (from matplotlib>=2.2->seaborn) (3.0.9)\n",
            "Requirement already satisfied: pytz>=2017.3 in /usr/local/lib/python3.8/dist-packages (from pandas>=0.23->seaborn) (2022.7.1)\n",
            "Requirement already satisfied: six>=1.5 in /usr/local/lib/python3.8/dist-packages (from python-dateutil>=2.7->matplotlib>=2.2->seaborn) (1.15.0)\n"
          ]
        }
      ]
    },
    {
      "cell_type": "code",
      "execution_count": 56,
      "metadata": {
        "id": "oMkMSMscJcqV",
        "colab": {
          "base_uri": "https://localhost:8080/",
          "height": 268
        },
        "outputId": "0bed321e-2c07-45ab-8f67-6467025771ec"
      },
      "outputs": [
        {
          "output_type": "display_data",
          "data": {
            "text/plain": [
              "<Figure size 432x288 with 1 Axes>"
            ],
            "image/png": "[encoded data removed]"
          },
          "metadata": {
            "needs_background": "light"
          }
        }
      ],
      "source": [
        "import seaborn as sns \n",
        "\n",
        "plt.scatter(\n",
        "    reduced[:, 0],\n",
        "    reduced[:, 1], s=0.1, alpha=0.9)#,\n",
        "  #  c=[sns.color_palette()[x] for x in df[\"Labels\"].map({\"PB-NA\":0, \"NE-NA-IP-IG\":1})]) #, 'PB-NA-RV-OP':2, 'DT-IN-RV-OP':3, 'PO-LY':4, 'SR-NA':5, 'MT-OS-RV-OP':6, 'NE-NA':7, 'RV-OP:7'})])\n",
        "                                                        #{\"NA-NE\":0, \"NA-SR\":1, \"OP-RV\":2})])\n",
        "plt.gca().set_aspect('equal', 'datalim')\n"
      ]
    },
    {
      "cell_type": "code",
      "source": [
        "mapper = umap.UMAP().fit(embeddings_new)"
      ],
      "metadata": {
        "id": "v_ULpsw1W8Jp"
      },
      "execution_count": 37,
      "outputs": []
    },
    {
      "cell_type": "code",
      "source": [
        "print(mapper)"
      ],
      "metadata": {
        "colab": {
          "base_uri": "https://localhost:8080/"
        },
        "id": "KmH7B_4iMNwv",
        "outputId": "8faa153d-d772-4288-d9ff-d2b678234380"
      },
      "execution_count": null,
      "outputs": [
        {
          "output_type": "stream",
          "name": "stdout",
          "text": [
            "UMAP(tqdm_kwds={'bar_format': '{desc}: {percentage:3.0f}%| {bar} {n_fmt}/{total_fmt} [{elapsed}]', 'desc': 'Epochs completed', 'disable': True})\n"
          ]
        }
      ]
    },
    {
      "cell_type": "code",
      "source": [
        "import umap.plot\n",
        "umap.plot.points(mapper, labels=df[\"Labels\"], theme='fire')"
      ],
      "metadata": {
        "colab": {
          "base_uri": "https://localhost:8080/",
          "height": 655
        },
        "id": "HAz1RUu6WamX",
        "outputId": "43d7c1fe-00db-44c6-a140-5e3d53dd6830"
      },
      "execution_count": 59,
      "outputs": [
        {
          "output_type": "execute_result",
          "data": {
            "text/plain": [
              "<AxesSubplot:>"
            ]
          },
          "metadata": {},
          "execution_count": 59
        },
        {
          "output_type": "display_data",
          "data": {
            "text/plain": [
              "<Figure size 800x800 with 1 Axes>"
            ],
            "image/png": "[encoded data removed]"
          },
          "metadata": {}
        }
      ]
    },
    {
      "cell_type": "code",
      "source": [
        "df = pd.DataFrame(reduced)\n",
        "coln = []\n",
        "for x in range(0,2): \n",
        "  coln.append(\"Col_\"+str(x))\n",
        "df.columns = coln\n",
        "df['Labels'] = labels_new2\n",
        "df.head()"
      ],
      "metadata": {
        "id": "ohOplz5lXbya",
        "colab": {
          "base_uri": "https://localhost:8080/",
          "height": 206
        },
        "outputId": "78847af4-0fe0-4e65-9efd-4e1fb254a193"
      },
      "execution_count": 61,
      "outputs": [
        {
          "output_type": "execute_result",
          "data": {
            "text/plain": [
              "       Col_0      Col_1       Labels\n",
              "0  17.160259  -4.447518        PB-NA\n",
              "1  18.007174  -4.349782        PB-NA\n",
              "2  14.877650  12.127233        NE-NA\n",
              "3  33.481899 -17.332405        SR-NA\n",
              "4  -3.366522  12.541585  DT-IN-RV-OP"
            ],
            "text/html": [
              "\n",
              "  <div id=\"df-2725359e-d2d8-4cfd-a5d6-dbc9b5f50a0e\">\n",
              "    <div class=\"colab-df-container\">\n",
              "      <div>\n",
              "<style scoped>\n",
              "    .dataframe tbody tr th:only-of-type {\n",
              "        vertical-align: middle;\n",
              "    }\n",
              "\n",
              "    .dataframe tbody tr th {\n",
              "        vertical-align: top;\n",
              "    }\n",
              "\n",
              "    .dataframe thead th {\n",
              "        text-align: right;\n",
              "    }\n",
              "</style>\n",
              "<table border=\"1\" class=\"dataframe\">\n",
              "  <thead>\n",
              "    <tr style=\"text-align: right;\">\n",
              "      <th></th>\n",
              "      <th>Col_0</th>\n",
              "      <th>Col_1</th>\n",
              "      <th>Labels</th>\n",
              "    </tr>\n",
              "  </thead>\n",
              "  <tbody>\n",
              "    <tr>\n",
              "      <th>0</th>\n",
              "      <td>17.160259</td>\n",
              "      <td>-4.447518</td>\n",
              "      <td>PB-NA</td>\n",
              "    </tr>\n",
              "    <tr>\n",
              "      <th>1</th>\n",
              "      <td>18.007174</td>\n",
              "      <td>-4.349782</td>\n",
              "      <td>PB-NA</td>\n",
              "    </tr>\n",
              "    <tr>\n",
              "      <th>2</th>\n",
              "      <td>14.877650</td>\n",
              "      <td>12.127233</td>\n",
              "      <td>NE-NA</td>\n",
              "    </tr>\n",
              "    <tr>\n",
              "      <th>3</th>\n",
              "      <td>33.481899</td>\n",
              "      <td>-17.332405</td>\n",
              "      <td>SR-NA</td>\n",
              "    </tr>\n",
              "    <tr>\n",
              "      <th>4</th>\n",
              "      <td>-3.366522</td>\n",
              "      <td>12.541585</td>\n",
              "      <td>DT-IN-RV-OP</td>\n",
              "    </tr>\n",
              "  </tbody>\n",
              "</table>\n",
              "</div>\n",
              "      <button class=\"colab-df-convert\" onclick=\"convertToInteractive('df-2725359e-d2d8-4cfd-a5d6-dbc9b5f50a0e')\"\n",
              "              title=\"Convert this dataframe to an interactive table.\"\n",
              "              style=\"display:none;\">\n",
              "        \n",
              "  <svg xmlns=\"http://www.w3.org/2000/svg\" height=\"24px\"viewBox=\"0 0 24 24\"\n",
              "       width=\"24px\">\n",
              "    <path d=\"M0 0h24v24H0V0z\" fill=\"none\"/>\n",
              "    <path d=\"M18.56 5.44l.94 2.06.94-2.06 2.06-.94-2.06-.94-.94-2.06-.94 2.06-2.06.94zm-11 1L8.5 8.5l.94-2.06 2.06-.94-2.06-.94L8.5 2.5l-.94 2.06-2.06.94zm10 10l.94 2.06.94-2.06 2.06-.94-2.06-.94-.94-2.06-.94 2.06-2.06.94z\"/><path d=\"M17.41 7.96l-1.37-1.37c-.4-.4-.92-.59-1.43-.59-.52 0-1.04.2-1.43.59L10.3 9.45l-7.72 7.72c-.78.78-.78 2.05 0 2.83L4 21.41c.39.39.9.59 1.41.59.51 0 1.02-.2 1.41-.59l7.78-7.78 2.81-2.81c.8-.78.8-2.07 0-2.86zM5.41 20L4 18.59l7.72-7.72 1.47 1.35L5.41 20z\"/>\n",
              "  </svg>\n",
              "      </button>\n",
              "      \n",
              "  <style>\n",
              "    .colab-df-container {\n",
              "      display:flex;\n",
              "      flex-wrap:wrap;\n",
              "      gap: 12px;\n",
              "    }\n",
              "\n",
              "    .colab-df-convert {\n",
              "      background-color: #E8F0FE;\n",
              "      border: none;\n",
              "      border-radius: 50%;\n",
              "      cursor: pointer;\n",
              "      display: none;\n",
              "      fill: #1967D2;\n",
              "      height: 32px;\n",
              "      padding: 0 0 0 0;\n",
              "      width: 32px;\n",
              "    }\n",
              "\n",
              "    .colab-df-convert:hover {\n",
              "      background-color: #E2EBFA;\n",
              "      box-shadow: 0px 1px 2px rgba(60, 64, 67, 0.3), 0px 1px 3px 1px rgba(60, 64, 67, 0.15);\n",
              "      fill: #174EA6;\n",
              "    }\n",
              "\n",
              "    [theme=dark] .colab-df-convert {\n",
              "      background-color: #3B4455;\n",
              "      fill: #D2E3FC;\n",
              "    }\n",
              "\n",
              "    [theme=dark] .colab-df-convert:hover {\n",
              "      background-color: #434B5C;\n",
              "      box-shadow: 0px 1px 3px 1px rgba(0, 0, 0, 0.15);\n",
              "      filter: drop-shadow(0px 1px 2px rgba(0, 0, 0, 0.3));\n",
              "      fill: #FFFFFF;\n",
              "    }\n",
              "  </style>\n",
              "\n",
              "      <script>\n",
              "        const buttonEl =\n",
              "          document.querySelector('#df-2725359e-d2d8-4cfd-a5d6-dbc9b5f50a0e button.colab-df-convert');\n",
              "        buttonEl.style.display =\n",
              "          google.colab.kernel.accessAllowed ? 'block' : 'none';\n",
              "\n",
              "        async function convertToInteractive(key) {\n",
              "          const element = document.querySelector('#df-2725359e-d2d8-4cfd-a5d6-dbc9b5f50a0e');\n",
              "          const dataTable =\n",
              "            await google.colab.kernel.invokeFunction('convertToInteractive',\n",
              "                                                     [key], {});\n",
              "          if (!dataTable) return;\n",
              "\n",
              "          const docLinkHtml = 'Like what you see? Visit the ' +\n",
              "            '<a target=\"_blank\" href=https://colab.research.google.com/notebooks/data_table.ipynb>data table notebook</a>'\n",
              "            + ' to learn more about interactive tables.';\n",
              "          element.innerHTML = '';\n",
              "          dataTable['output_type'] = 'display_data';\n",
              "          await google.colab.output.renderOutput(dataTable, element);\n",
              "          const docLink = document.createElement('div');\n",
              "          docLink.innerHTML = docLinkHtml;\n",
              "          element.appendChild(docLink);\n",
              "        }\n",
              "      </script>\n",
              "    </div>\n",
              "  </div>\n",
              "  "
            ]
          },
          "metadata": {},
          "execution_count": 61
        }
      ]
    },
    {
      "cell_type": "code",
      "source": [
        "sns.scatterplot(data=df, x=\"Col_0\", y=\"Col_1\", hue=\"Labels\")\n",
        "sns.set_context(\"notebook\", font_scale=0.5, rc={\"lines.linewidth\": 0.5})"
      ],
      "metadata": {
        "colab": {
          "base_uri": "https://localhost:8080/",
          "height": 273
        },
        "id": "HHCLpZY7lzhN",
        "outputId": "e2805c35-042d-4895-a0ea-6e8af90daaa7"
      },
      "execution_count": 79,
      "outputs": [
        {
          "output_type": "display_data",
          "data": {
            "text/plain": [
              "<Figure size 432x288 with 1 Axes>"
            ],
            "image/png": "[encoded data removed]"
          },
          "metadata": {
            "needs_background": "light"
          }
        }
      ]
    },
    {
      "cell_type": "code",
      "source": [
        "vanhoja roskia"
      ],
      "metadata": {
        "id": "btcgUeKOW3Fq"
      },
      "execution_count": null,
      "outputs": []
    },
    {
      "cell_type": "code",
      "execution_count": 78,
      "metadata": {
        "colab": {
          "base_uri": "https://localhost:8080/",
          "height": 810
        },
        "id": "8M2Oc8bJLSl4",
        "outputId": "411e1fe2-ea45-4ff2-e447-c9f5510b4a8f"
      },
      "outputs": [
        {
          "output_type": "display_data",
          "data": {
            "text/plain": [
              "<Figure size 432x288 with 1 Axes>"
            ],
            "image/png": "[encoded data removed]"
          },
          "metadata": {
            "needs_background": "light"
          }
        }
      ],
      "source": [
        "fig, ax = plt.subplots()\n",
        "scatter_x = reduced[:,0]\n",
        "scatter_y = reduced[:,1]\n",
        "group = labels_new2#np.array([1,3,2,1,3])\n",
        "#print(np.unique(group))\n",
        "for g in labels_new2:#np.unique(group):\n",
        "    #print(\"G\", g)\n",
        "    i = labels_new2.index(g)#np.where(group == g)\n",
        "    #print(\"i\", i)\n",
        "    ax.scatter(scatter_x[i], scatter_y[i], alpha=0.5, label=g, s=0.5)\n",
        "ax.legend()\n",
        "plt.show()"
      ]
    },
    {
      "cell_type": "markdown",
      "source": [],
      "metadata": {
        "id": "TlKynXi4W2HC"
      }
    },
    {
      "cell_type": "code",
      "execution_count": 29,
      "metadata": {
        "colab": {
          "base_uri": "https://localhost:8080/",
          "height": 684
        },
        "id": "u92-c8DjN3x_",
        "outputId": "f24c2afe-2970-4726-88d8-d6beec710e4d"
      },
      "outputs": [
        {
          "output_type": "error",
          "ename": "ValueError",
          "evalue": "ignored",
          "traceback": [
            "\u001b[0;31m---------------------------------------------------------------------------\u001b[0m",
            "\u001b[0;31mValueError\u001b[0m                                Traceback (most recent call last)",
            "\u001b[0;32m/usr/local/lib/python3.8/dist-packages/matplotlib/axes/_axes.py\u001b[0m in \u001b[0;36m_parse_scatter_color_args\u001b[0;34m(c, edgecolors, kwargs, xsize, get_next_color_func)\u001b[0m\n\u001b[1;32m   4219\u001b[0m             \u001b[0;32mtry\u001b[0m\u001b[0;34m:\u001b[0m  \u001b[0;31m# Is 'c' acceptable as PathCollection facecolors?\u001b[0m\u001b[0;34m\u001b[0m\u001b[0;34m\u001b[0m\u001b[0m\n\u001b[0;32m-> 4220\u001b[0;31m                 \u001b[0mcolors\u001b[0m \u001b[0;34m=\u001b[0m \u001b[0mmcolors\u001b[0m\u001b[0;34m.\u001b[0m\u001b[0mto_rgba_array\u001b[0m\u001b[0;34m(\u001b[0m\u001b[0mc\u001b[0m\u001b[0;34m)\u001b[0m\u001b[0;34m\u001b[0m\u001b[0;34m\u001b[0m\u001b[0m\n\u001b[0m\u001b[1;32m   4221\u001b[0m             \u001b[0;32mexcept\u001b[0m \u001b[0;34m(\u001b[0m\u001b[0mTypeError\u001b[0m\u001b[0;34m,\u001b[0m \u001b[0mValueError\u001b[0m\u001b[0;34m)\u001b[0m \u001b[0;32mas\u001b[0m \u001b[0merr\u001b[0m\u001b[0;34m:\u001b[0m\u001b[0;34m\u001b[0m\u001b[0;34m\u001b[0m\u001b[0m\n",
            "\u001b[0;32m/usr/local/lib/python3.8/dist-packages/matplotlib/colors.py\u001b[0m in \u001b[0;36mto_rgba_array\u001b[0;34m(c, alpha)\u001b[0m\n\u001b[1;32m    376\u001b[0m     \u001b[0;32melse\u001b[0m\u001b[0;34m:\u001b[0m\u001b[0;34m\u001b[0m\u001b[0;34m\u001b[0m\u001b[0m\n\u001b[0;32m--> 377\u001b[0;31m         \u001b[0mrgba\u001b[0m \u001b[0;34m=\u001b[0m \u001b[0mnp\u001b[0m\u001b[0;34m.\u001b[0m\u001b[0marray\u001b[0m\u001b[0;34m(\u001b[0m\u001b[0;34m[\u001b[0m\u001b[0mto_rgba\u001b[0m\u001b[0;34m(\u001b[0m\u001b[0mcc\u001b[0m\u001b[0;34m)\u001b[0m \u001b[0;32mfor\u001b[0m \u001b[0mcc\u001b[0m \u001b[0;32min\u001b[0m \u001b[0mc\u001b[0m\u001b[0;34m]\u001b[0m\u001b[0;34m)\u001b[0m\u001b[0;34m\u001b[0m\u001b[0;34m\u001b[0m\u001b[0m\n\u001b[0m\u001b[1;32m    378\u001b[0m \u001b[0;34m\u001b[0m\u001b[0m\n",
            "\u001b[0;32m/usr/local/lib/python3.8/dist-packages/matplotlib/colors.py\u001b[0m in \u001b[0;36m<listcomp>\u001b[0;34m(.0)\u001b[0m\n\u001b[1;32m    376\u001b[0m     \u001b[0;32melse\u001b[0m\u001b[0;34m:\u001b[0m\u001b[0;34m\u001b[0m\u001b[0;34m\u001b[0m\u001b[0m\n\u001b[0;32m--> 377\u001b[0;31m         \u001b[0mrgba\u001b[0m \u001b[0;34m=\u001b[0m \u001b[0mnp\u001b[0m\u001b[0;34m.\u001b[0m\u001b[0marray\u001b[0m\u001b[0;34m(\u001b[0m\u001b[0;34m[\u001b[0m\u001b[0mto_rgba\u001b[0m\u001b[0;34m(\u001b[0m\u001b[0mcc\u001b[0m\u001b[0;34m)\u001b[0m \u001b[0;32mfor\u001b[0m \u001b[0mcc\u001b[0m \u001b[0;32min\u001b[0m \u001b[0mc\u001b[0m\u001b[0;34m]\u001b[0m\u001b[0;34m)\u001b[0m\u001b[0;34m\u001b[0m\u001b[0;34m\u001b[0m\u001b[0m\n\u001b[0m\u001b[1;32m    378\u001b[0m \u001b[0;34m\u001b[0m\u001b[0m\n",
            "\u001b[0;32m/usr/local/lib/python3.8/dist-packages/matplotlib/colors.py\u001b[0m in \u001b[0;36mto_rgba\u001b[0;34m(c, alpha)\u001b[0m\n\u001b[1;32m    186\u001b[0m     \u001b[0;32mif\u001b[0m \u001b[0mrgba\u001b[0m \u001b[0;32mis\u001b[0m \u001b[0;32mNone\u001b[0m\u001b[0;34m:\u001b[0m  \u001b[0;31m# Suppress exception chaining of cache lookup failure.\u001b[0m\u001b[0;34m\u001b[0m\u001b[0;34m\u001b[0m\u001b[0m\n\u001b[0;32m--> 187\u001b[0;31m         \u001b[0mrgba\u001b[0m \u001b[0;34m=\u001b[0m \u001b[0m_to_rgba_no_colorcycle\u001b[0m\u001b[0;34m(\u001b[0m\u001b[0mc\u001b[0m\u001b[0;34m,\u001b[0m \u001b[0malpha\u001b[0m\u001b[0;34m)\u001b[0m\u001b[0;34m\u001b[0m\u001b[0;34m\u001b[0m\u001b[0m\n\u001b[0m\u001b[1;32m    188\u001b[0m         \u001b[0;32mtry\u001b[0m\u001b[0;34m:\u001b[0m\u001b[0;34m\u001b[0m\u001b[0;34m\u001b[0m\u001b[0m\n",
            "\u001b[0;32m/usr/local/lib/python3.8/dist-packages/matplotlib/colors.py\u001b[0m in \u001b[0;36m_to_rgba_no_colorcycle\u001b[0;34m(c, alpha)\u001b[0m\n\u001b[1;32m    268\u001b[0m     \u001b[0;32mif\u001b[0m \u001b[0;32mnot\u001b[0m \u001b[0mnp\u001b[0m\u001b[0;34m.\u001b[0m\u001b[0miterable\u001b[0m\u001b[0;34m(\u001b[0m\u001b[0mc\u001b[0m\u001b[0;34m)\u001b[0m\u001b[0;34m:\u001b[0m\u001b[0;34m\u001b[0m\u001b[0;34m\u001b[0m\u001b[0m\n\u001b[0;32m--> 269\u001b[0;31m         \u001b[0;32mraise\u001b[0m \u001b[0mValueError\u001b[0m\u001b[0;34m(\u001b[0m\u001b[0;34mf\"Invalid RGBA argument: {orig_c!r}\"\u001b[0m\u001b[0;34m)\u001b[0m\u001b[0;34m\u001b[0m\u001b[0;34m\u001b[0m\u001b[0m\n\u001b[0m\u001b[1;32m    270\u001b[0m     \u001b[0;32mif\u001b[0m \u001b[0mlen\u001b[0m\u001b[0;34m(\u001b[0m\u001b[0mc\u001b[0m\u001b[0;34m)\u001b[0m \u001b[0;32mnot\u001b[0m \u001b[0;32min\u001b[0m \u001b[0;34m[\u001b[0m\u001b[0;36m3\u001b[0m\u001b[0;34m,\u001b[0m \u001b[0;36m4\u001b[0m\u001b[0;34m]\u001b[0m\u001b[0;34m:\u001b[0m\u001b[0;34m\u001b[0m\u001b[0;34m\u001b[0m\u001b[0m\n",
            "\u001b[0;31mValueError\u001b[0m: Invalid RGBA argument: 0.0",
            "\nThe above exception was the direct cause of the following exception:\n",
            "\u001b[0;31mValueError\u001b[0m                                Traceback (most recent call last)",
            "\u001b[0;32m<ipython-input-29-232afaa58d22>\u001b[0m in \u001b[0;36m<module>\u001b[0;34m\u001b[0m\n\u001b[1;32m      1\u001b[0m \u001b[0mfig\u001b[0m\u001b[0;34m,\u001b[0m \u001b[0max\u001b[0m \u001b[0;34m=\u001b[0m \u001b[0mplt\u001b[0m\u001b[0;34m.\u001b[0m\u001b[0msubplots\u001b[0m\u001b[0;34m(\u001b[0m\u001b[0;34m)\u001b[0m\u001b[0;34m\u001b[0m\u001b[0;34m\u001b[0m\u001b[0m\n\u001b[0;32m----> 2\u001b[0;31m \u001b[0max\u001b[0m\u001b[0;34m.\u001b[0m\u001b[0mscatter\u001b[0m\u001b[0;34m(\u001b[0m\u001b[0mreduced\u001b[0m\u001b[0;34m[\u001b[0m\u001b[0;34m:\u001b[0m\u001b[0;34m,\u001b[0m\u001b[0;36m0\u001b[0m\u001b[0;34m]\u001b[0m\u001b[0;34m,\u001b[0m \u001b[0mreduced\u001b[0m\u001b[0;34m[\u001b[0m\u001b[0;34m:\u001b[0m\u001b[0;34m,\u001b[0m\u001b[0;36m1\u001b[0m\u001b[0;34m]\u001b[0m\u001b[0;34m,\u001b[0m  \u001b[0mc\u001b[0m\u001b[0;34m=\u001b[0m\u001b[0mrange\u001b[0m\u001b[0;34m(\u001b[0m\u001b[0;36m0\u001b[0m\u001b[0;34m,\u001b[0m\u001b[0mlen\u001b[0m\u001b[0;34m(\u001b[0m\u001b[0mlabels\u001b[0m\u001b[0;34m)\u001b[0m\u001b[0;34m)\u001b[0m\u001b[0;34m,\u001b[0m \u001b[0mcmap\u001b[0m\u001b[0;34m=\u001b[0m\u001b[0;34m'Spectral'\u001b[0m\u001b[0;34m,\u001b[0m \u001b[0ms\u001b[0m\u001b[0;34m=\u001b[0m\u001b[0;36m5\u001b[0m\u001b[0;34m)\u001b[0m\u001b[0;34m\u001b[0m\u001b[0;34m\u001b[0m\u001b[0m\n\u001b[0m\u001b[1;32m      3\u001b[0m \u001b[0mplt\u001b[0m\u001b[0;34m.\u001b[0m\u001b[0mgca\u001b[0m\u001b[0;34m(\u001b[0m\u001b[0;34m)\u001b[0m\u001b[0;34m.\u001b[0m\u001b[0mset_aspect\u001b[0m\u001b[0;34m(\u001b[0m\u001b[0;34m'equal'\u001b[0m\u001b[0;34m,\u001b[0m \u001b[0;34m'datalim'\u001b[0m\u001b[0;34m)\u001b[0m\u001b[0;34m\u001b[0m\u001b[0;34m\u001b[0m\u001b[0m\n\u001b[1;32m      4\u001b[0m \u001b[0;31m#legend1 = ax.legend(range(0,len(labels))#*scatter.legend_elements(num=5),\u001b[0m\u001b[0;34m\u001b[0m\u001b[0;34m\u001b[0m\u001b[0;34m\u001b[0m\u001b[0m\n\u001b[1;32m      5\u001b[0m                \u001b[0;31m#     loc=\"upper left\", title=\"Ranking\")\u001b[0m\u001b[0;34m\u001b[0m\u001b[0;34m\u001b[0m\u001b[0;34m\u001b[0m\u001b[0m\n",
            "\u001b[0;32m/usr/local/lib/python3.8/dist-packages/matplotlib/__init__.py\u001b[0m in \u001b[0;36minner\u001b[0;34m(ax, data, *args, **kwargs)\u001b[0m\n\u001b[1;32m   1412\u001b[0m     \u001b[0;32mdef\u001b[0m \u001b[0minner\u001b[0m\u001b[0;34m(\u001b[0m\u001b[0max\u001b[0m\u001b[0;34m,\u001b[0m \u001b[0;34m*\u001b[0m\u001b[0margs\u001b[0m\u001b[0;34m,\u001b[0m \u001b[0mdata\u001b[0m\u001b[0;34m=\u001b[0m\u001b[0;32mNone\u001b[0m\u001b[0;34m,\u001b[0m \u001b[0;34m**\u001b[0m\u001b[0mkwargs\u001b[0m\u001b[0;34m)\u001b[0m\u001b[0;34m:\u001b[0m\u001b[0;34m\u001b[0m\u001b[0;34m\u001b[0m\u001b[0m\n\u001b[1;32m   1413\u001b[0m         \u001b[0;32mif\u001b[0m \u001b[0mdata\u001b[0m \u001b[0;32mis\u001b[0m \u001b[0;32mNone\u001b[0m\u001b[0;34m:\u001b[0m\u001b[0;34m\u001b[0m\u001b[0;34m\u001b[0m\u001b[0m\n\u001b[0;32m-> 1414\u001b[0;31m             \u001b[0;32mreturn\u001b[0m \u001b[0mfunc\u001b[0m\u001b[0;34m(\u001b[0m\u001b[0max\u001b[0m\u001b[0;34m,\u001b[0m \u001b[0;34m*\u001b[0m\u001b[0mmap\u001b[0m\u001b[0;34m(\u001b[0m\u001b[0msanitize_sequence\u001b[0m\u001b[0;34m,\u001b[0m \u001b[0margs\u001b[0m\u001b[0;34m)\u001b[0m\u001b[0;34m,\u001b[0m \u001b[0;34m**\u001b[0m\u001b[0mkwargs\u001b[0m\u001b[0;34m)\u001b[0m\u001b[0;34m\u001b[0m\u001b[0;34m\u001b[0m\u001b[0m\n\u001b[0m\u001b[1;32m   1415\u001b[0m \u001b[0;34m\u001b[0m\u001b[0m\n\u001b[1;32m   1416\u001b[0m         \u001b[0mbound\u001b[0m \u001b[0;34m=\u001b[0m \u001b[0mnew_sig\u001b[0m\u001b[0;34m.\u001b[0m\u001b[0mbind\u001b[0m\u001b[0;34m(\u001b[0m\u001b[0max\u001b[0m\u001b[0;34m,\u001b[0m \u001b[0;34m*\u001b[0m\u001b[0margs\u001b[0m\u001b[0;34m,\u001b[0m \u001b[0;34m**\u001b[0m\u001b[0mkwargs\u001b[0m\u001b[0;34m)\u001b[0m\u001b[0;34m\u001b[0m\u001b[0;34m\u001b[0m\u001b[0m\n",
            "\u001b[0;32m/usr/local/lib/python3.8/dist-packages/matplotlib/axes/_axes.py\u001b[0m in \u001b[0;36mscatter\u001b[0;34m(self, x, y, s, c, marker, cmap, norm, vmin, vmax, alpha, linewidths, edgecolors, plotnonfinite, **kwargs)\u001b[0m\n\u001b[1;32m   4384\u001b[0m             \u001b[0morig_edgecolor\u001b[0m \u001b[0;34m=\u001b[0m \u001b[0mkwargs\u001b[0m\u001b[0;34m.\u001b[0m\u001b[0mget\u001b[0m\u001b[0;34m(\u001b[0m\u001b[0;34m'edgecolor'\u001b[0m\u001b[0;34m,\u001b[0m \u001b[0;32mNone\u001b[0m\u001b[0;34m)\u001b[0m\u001b[0;34m\u001b[0m\u001b[0;34m\u001b[0m\u001b[0m\n\u001b[1;32m   4385\u001b[0m         \u001b[0mc\u001b[0m\u001b[0;34m,\u001b[0m \u001b[0mcolors\u001b[0m\u001b[0;34m,\u001b[0m \u001b[0medgecolors\u001b[0m \u001b[0;34m=\u001b[0m\u001b[0;31m \u001b[0m\u001b[0;31m\\\u001b[0m\u001b[0;34m\u001b[0m\u001b[0;34m\u001b[0m\u001b[0m\n\u001b[0;32m-> 4386\u001b[0;31m             self._parse_scatter_color_args(\n\u001b[0m\u001b[1;32m   4387\u001b[0m                 \u001b[0mc\u001b[0m\u001b[0;34m,\u001b[0m \u001b[0medgecolors\u001b[0m\u001b[0;34m,\u001b[0m \u001b[0mkwargs\u001b[0m\u001b[0;34m,\u001b[0m \u001b[0mx\u001b[0m\u001b[0;34m.\u001b[0m\u001b[0msize\u001b[0m\u001b[0;34m,\u001b[0m\u001b[0;34m\u001b[0m\u001b[0;34m\u001b[0m\u001b[0m\n\u001b[1;32m   4388\u001b[0m                 get_next_color_func=self._get_patches_for_fill.get_next_color)\n",
            "\u001b[0;32m/usr/local/lib/python3.8/dist-packages/matplotlib/axes/_axes.py\u001b[0m in \u001b[0;36m_parse_scatter_color_args\u001b[0;34m(c, edgecolors, kwargs, xsize, get_next_color_func)\u001b[0m\n\u001b[1;32m   4224\u001b[0m                 \u001b[0;32melse\u001b[0m\u001b[0;34m:\u001b[0m\u001b[0;34m\u001b[0m\u001b[0;34m\u001b[0m\u001b[0m\n\u001b[1;32m   4225\u001b[0m                     \u001b[0;32mif\u001b[0m \u001b[0;32mnot\u001b[0m \u001b[0mvalid_shape\u001b[0m\u001b[0;34m:\u001b[0m\u001b[0;34m\u001b[0m\u001b[0;34m\u001b[0m\u001b[0m\n\u001b[0;32m-> 4226\u001b[0;31m                         \u001b[0;32mraise\u001b[0m \u001b[0minvalid_shape_exception\u001b[0m\u001b[0;34m(\u001b[0m\u001b[0mc\u001b[0m\u001b[0;34m.\u001b[0m\u001b[0msize\u001b[0m\u001b[0;34m,\u001b[0m \u001b[0mxsize\u001b[0m\u001b[0;34m)\u001b[0m \u001b[0;32mfrom\u001b[0m \u001b[0merr\u001b[0m\u001b[0;34m\u001b[0m\u001b[0;34m\u001b[0m\u001b[0m\n\u001b[0m\u001b[1;32m   4227\u001b[0m                     \u001b[0;31m# Both the mapping *and* the RGBA conversion failed: pretty\u001b[0m\u001b[0;34m\u001b[0m\u001b[0;34m\u001b[0m\u001b[0;34m\u001b[0m\u001b[0m\n\u001b[1;32m   4228\u001b[0m                     \u001b[0;31m# severe failure => one may appreciate a verbose feedback.\u001b[0m\u001b[0;34m\u001b[0m\u001b[0;34m\u001b[0m\u001b[0;34m\u001b[0m\u001b[0m\n",
            "\u001b[0;31mValueError\u001b[0m: 'c' argument has 5 elements, which is inconsistent with 'x' and 'y' with size 100."
          ]
        },
        {
          "output_type": "display_data",
          "data": {
            "text/plain": [
              "<Figure size 432x288 with 1 Axes>"
            ],
            "image/png": "[encoded data removed]"
          },
          "metadata": {
            "needs_background": "light"
          }
        }
      ],
      "source": [
        "fig, ax = plt.subplots()\n",
        "ax.scatter(reduced[:,0], reduced[:,1],  c=range(0,len(labels)), cmap='Spectral', s=5)\n",
        "plt.gca().set_aspect('equal', 'datalim')\n",
        "#legend1 = ax.legend(range(0,len(labels))#*scatter.legend_elements(num=5),\n",
        "               #     loc=\"upper left\", title=\"Ranking\")\n",
        "#ax.add(legend1)\n",
        "#plt.colorbar(boundaries=np.arange(11)-0.5).set_ticks(np.arange(10))\n",
        "ax.legend()\n",
        "plt.title('UMAP projection of the Digits dataset', fontsize=12);"
      ]
    }
  ],
  "metadata": {
    "colab": {
      "provenance": [],
      "authorship_tag": "ABX9TyM7mr1ssM2qwByBY1mRFYV2",
      "include_colab_link": true
    },
    "kernelspec": {
      "display_name": "Python 3",
      "name": "python3"
    },
    "language_info": {
      "name": "python"
    }
  },
  "nbformat": 4,
  "nbformat_minor": 0
}